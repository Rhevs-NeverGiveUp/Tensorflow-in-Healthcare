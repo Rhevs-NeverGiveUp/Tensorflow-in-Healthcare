{
  "nbformat": 4,
  "nbformat_minor": 0,
  "metadata": {
    "colab": {
      "provenance": [],
      "mount_file_id": "1Dk7YFkS0VohvcpLtfTJsnRQiG35MTq8w",
      "authorship_tag": "ABX9TyNSzB2meXS8Cbvt3H5IbNyy",
      "include_colab_link": true
    },
    "kernelspec": {
      "name": "python3",
      "display_name": "Python 3"
    },
    "language_info": {
      "name": "python"
    }
  },
  "cells": [
    {
      "cell_type": "markdown",
      "metadata": {
        "id": "view-in-github",
        "colab_type": "text"
      },
      "source": [
        "<a href=\"https://colab.research.google.com/github/Rhevs-NeverGiveUp/Tensorflow-in-Healthcare/blob/main/Practice.ipynb\" target=\"_parent\"><img src=\"https://colab.research.google.com/assets/colab-badge.svg\" alt=\"Open In Colab\"/></a>"
      ]
    },
    {
      "cell_type": "markdown",
      "source": [
        "Project: Predicting Diabetes Risk\n",
        "\n",
        "Project Goal: To build a deep learning model that can predict whether a patient has diabetes based on a set of diagnostic measurements. This is a classic **binary classification problem.**\n",
        "\n",
        "Dataset: We'll use the **Pima Indians Diabetes **Dataset, a widely-used public dataset for machine learning research. You can download this dataset from Kaggle or the UCI Machine Learning Repository. It contains data for 768 female patients, 21 years or older, of Pima Indian heritage.\n",
        "\n",
        "The dataset has 8 clinical features (like BMI, glucose level, and blood pressure) and a single output variable (Outcome) where 1 indicates a positive diabetes diagnosis and 0 indicates a negative diagnosis.\n",
        "\n"
      ],
      "metadata": {
        "id": "vzQC15bymnXz"
      }
    },
    {
      "cell_type": "markdown",
      "source": [
        "Step 1: Import TensorFlow and Keras"
      ],
      "metadata": {
        "id": "298MfDTInFeO"
      }
    },
    {
      "cell_type": "code",
      "execution_count": null,
      "metadata": {
        "id": "cgIm8PgGmkk2"
      },
      "outputs": [],
      "source": [
        "import pandas as pd\n",
        "from sklearn.model_selection import train_test_split\n",
        "from sklearn.preprocessing import StandardScaler\n",
        "import tensorflow as tf\n",
        "from tensorflow.keras.models import Sequential\n",
        "from tensorflow.keras.layers import Dense"
      ]
    },
    {
      "cell_type": "code",
      "source": [
        "df=pd.read_csv(\"/content/drive/MyDrive/SUBJECTS/AY 25-26/Tensorflow and Other tools in Healthcare/DATASETS/diabetes.csv\")"
      ],
      "metadata": {
        "id": "aV-W6lfunEP0"
      },
      "execution_count": null,
      "outputs": []
    },
    {
      "cell_type": "code",
      "source": [
        "df.head()"
      ],
      "metadata": {
        "colab": {
          "base_uri": "https://localhost:8080/",
          "height": 206
        },
        "id": "qZxF_5a-pB1F",
        "outputId": "692e906f-3dc8-42c6-9e60-cb644625e22d"
      },
      "execution_count": null,
      "outputs": [
        {
          "output_type": "execute_result",
          "data": {
            "text/plain": [
              "   Pregnancies  Glucose  BloodPressure  SkinThickness  Insulin   BMI  \\\n",
              "0            6      148             72             35        0  33.6   \n",
              "1            1       85             66             29        0  26.6   \n",
              "2            8      183             64              0        0  23.3   \n",
              "3            1       89             66             23       94  28.1   \n",
              "4            0      137             40             35      168  43.1   \n",
              "\n",
              "   DiabetesPedigreeFunction  Age  Outcome  \n",
              "0                     0.627   50        1  \n",
              "1                     0.351   31        0  \n",
              "2                     0.672   32        1  \n",
              "3                     0.167   21        0  \n",
              "4                     2.288   33        1  "
            ],
            "text/html": [
              "\n",
              "  <div id=\"df-37c3d4b0-9b87-43fc-9ff1-34c28a45e0de\" class=\"colab-df-container\">\n",
              "    <div>\n",
              "<style scoped>\n",
              "    .dataframe tbody tr th:only-of-type {\n",
              "        vertical-align: middle;\n",
              "    }\n",
              "\n",
              "    .dataframe tbody tr th {\n",
              "        vertical-align: top;\n",
              "    }\n",
              "\n",
              "    .dataframe thead th {\n",
              "        text-align: right;\n",
              "    }\n",
              "</style>\n",
              "<table border=\"1\" class=\"dataframe\">\n",
              "  <thead>\n",
              "    <tr style=\"text-align: right;\">\n",
              "      <th></th>\n",
              "      <th>Pregnancies</th>\n",
              "      <th>Glucose</th>\n",
              "      <th>BloodPressure</th>\n",
              "      <th>SkinThickness</th>\n",
              "      <th>Insulin</th>\n",
              "      <th>BMI</th>\n",
              "      <th>DiabetesPedigreeFunction</th>\n",
              "      <th>Age</th>\n",
              "      <th>Outcome</th>\n",
              "    </tr>\n",
              "  </thead>\n",
              "  <tbody>\n",
              "    <tr>\n",
              "      <th>0</th>\n",
              "      <td>6</td>\n",
              "      <td>148</td>\n",
              "      <td>72</td>\n",
              "      <td>35</td>\n",
              "      <td>0</td>\n",
              "      <td>33.6</td>\n",
              "      <td>0.627</td>\n",
              "      <td>50</td>\n",
              "      <td>1</td>\n",
              "    </tr>\n",
              "    <tr>\n",
              "      <th>1</th>\n",
              "      <td>1</td>\n",
              "      <td>85</td>\n",
              "      <td>66</td>\n",
              "      <td>29</td>\n",
              "      <td>0</td>\n",
              "      <td>26.6</td>\n",
              "      <td>0.351</td>\n",
              "      <td>31</td>\n",
              "      <td>0</td>\n",
              "    </tr>\n",
              "    <tr>\n",
              "      <th>2</th>\n",
              "      <td>8</td>\n",
              "      <td>183</td>\n",
              "      <td>64</td>\n",
              "      <td>0</td>\n",
              "      <td>0</td>\n",
              "      <td>23.3</td>\n",
              "      <td>0.672</td>\n",
              "      <td>32</td>\n",
              "      <td>1</td>\n",
              "    </tr>\n",
              "    <tr>\n",
              "      <th>3</th>\n",
              "      <td>1</td>\n",
              "      <td>89</td>\n",
              "      <td>66</td>\n",
              "      <td>23</td>\n",
              "      <td>94</td>\n",
              "      <td>28.1</td>\n",
              "      <td>0.167</td>\n",
              "      <td>21</td>\n",
              "      <td>0</td>\n",
              "    </tr>\n",
              "    <tr>\n",
              "      <th>4</th>\n",
              "      <td>0</td>\n",
              "      <td>137</td>\n",
              "      <td>40</td>\n",
              "      <td>35</td>\n",
              "      <td>168</td>\n",
              "      <td>43.1</td>\n",
              "      <td>2.288</td>\n",
              "      <td>33</td>\n",
              "      <td>1</td>\n",
              "    </tr>\n",
              "  </tbody>\n",
              "</table>\n",
              "</div>\n",
              "    <div class=\"colab-df-buttons\">\n",
              "\n",
              "  <div class=\"colab-df-container\">\n",
              "    <button class=\"colab-df-convert\" onclick=\"convertToInteractive('df-37c3d4b0-9b87-43fc-9ff1-34c28a45e0de')\"\n",
              "            title=\"Convert this dataframe to an interactive table.\"\n",
              "            style=\"display:none;\">\n",
              "\n",
              "  <svg xmlns=\"http://www.w3.org/2000/svg\" height=\"24px\" viewBox=\"0 -960 960 960\">\n",
              "    <path d=\"M120-120v-720h720v720H120Zm60-500h600v-160H180v160Zm220 220h160v-160H400v160Zm0 220h160v-160H400v160ZM180-400h160v-160H180v160Zm440 0h160v-160H620v160ZM180-180h160v-160H180v160Zm440 0h160v-160H620v160Z\"/>\n",
              "  </svg>\n",
              "    </button>\n",
              "\n",
              "  <style>\n",
              "    .colab-df-container {\n",
              "      display:flex;\n",
              "      gap: 12px;\n",
              "    }\n",
              "\n",
              "    .colab-df-convert {\n",
              "      background-color: #E8F0FE;\n",
              "      border: none;\n",
              "      border-radius: 50%;\n",
              "      cursor: pointer;\n",
              "      display: none;\n",
              "      fill: #1967D2;\n",
              "      height: 32px;\n",
              "      padding: 0 0 0 0;\n",
              "      width: 32px;\n",
              "    }\n",
              "\n",
              "    .colab-df-convert:hover {\n",
              "      background-color: #E2EBFA;\n",
              "      box-shadow: 0px 1px 2px rgba(60, 64, 67, 0.3), 0px 1px 3px 1px rgba(60, 64, 67, 0.15);\n",
              "      fill: #174EA6;\n",
              "    }\n",
              "\n",
              "    .colab-df-buttons div {\n",
              "      margin-bottom: 4px;\n",
              "    }\n",
              "\n",
              "    [theme=dark] .colab-df-convert {\n",
              "      background-color: #3B4455;\n",
              "      fill: #D2E3FC;\n",
              "    }\n",
              "\n",
              "    [theme=dark] .colab-df-convert:hover {\n",
              "      background-color: #434B5C;\n",
              "      box-shadow: 0px 1px 3px 1px rgba(0, 0, 0, 0.15);\n",
              "      filter: drop-shadow(0px 1px 2px rgba(0, 0, 0, 0.3));\n",
              "      fill: #FFFFFF;\n",
              "    }\n",
              "  </style>\n",
              "\n",
              "    <script>\n",
              "      const buttonEl =\n",
              "        document.querySelector('#df-37c3d4b0-9b87-43fc-9ff1-34c28a45e0de button.colab-df-convert');\n",
              "      buttonEl.style.display =\n",
              "        google.colab.kernel.accessAllowed ? 'block' : 'none';\n",
              "\n",
              "      async function convertToInteractive(key) {\n",
              "        const element = document.querySelector('#df-37c3d4b0-9b87-43fc-9ff1-34c28a45e0de');\n",
              "        const dataTable =\n",
              "          await google.colab.kernel.invokeFunction('convertToInteractive',\n",
              "                                                    [key], {});\n",
              "        if (!dataTable) return;\n",
              "\n",
              "        const docLinkHtml = 'Like what you see? Visit the ' +\n",
              "          '<a target=\"_blank\" href=https://colab.research.google.com/notebooks/data_table.ipynb>data table notebook</a>'\n",
              "          + ' to learn more about interactive tables.';\n",
              "        element.innerHTML = '';\n",
              "        dataTable['output_type'] = 'display_data';\n",
              "        await google.colab.output.renderOutput(dataTable, element);\n",
              "        const docLink = document.createElement('div');\n",
              "        docLink.innerHTML = docLinkHtml;\n",
              "        element.appendChild(docLink);\n",
              "      }\n",
              "    </script>\n",
              "  </div>\n",
              "\n",
              "\n",
              "    <div id=\"df-19baef77-a825-4c6b-8b41-f65f91ea766d\">\n",
              "      <button class=\"colab-df-quickchart\" onclick=\"quickchart('df-19baef77-a825-4c6b-8b41-f65f91ea766d')\"\n",
              "                title=\"Suggest charts\"\n",
              "                style=\"display:none;\">\n",
              "\n",
              "<svg xmlns=\"http://www.w3.org/2000/svg\" height=\"24px\"viewBox=\"0 0 24 24\"\n",
              "     width=\"24px\">\n",
              "    <g>\n",
              "        <path d=\"M19 3H5c-1.1 0-2 .9-2 2v14c0 1.1.9 2 2 2h14c1.1 0 2-.9 2-2V5c0-1.1-.9-2-2-2zM9 17H7v-7h2v7zm4 0h-2V7h2v10zm4 0h-2v-4h2v4z\"/>\n",
              "    </g>\n",
              "</svg>\n",
              "      </button>\n",
              "\n",
              "<style>\n",
              "  .colab-df-quickchart {\n",
              "      --bg-color: #E8F0FE;\n",
              "      --fill-color: #1967D2;\n",
              "      --hover-bg-color: #E2EBFA;\n",
              "      --hover-fill-color: #174EA6;\n",
              "      --disabled-fill-color: #AAA;\n",
              "      --disabled-bg-color: #DDD;\n",
              "  }\n",
              "\n",
              "  [theme=dark] .colab-df-quickchart {\n",
              "      --bg-color: #3B4455;\n",
              "      --fill-color: #D2E3FC;\n",
              "      --hover-bg-color: #434B5C;\n",
              "      --hover-fill-color: #FFFFFF;\n",
              "      --disabled-bg-color: #3B4455;\n",
              "      --disabled-fill-color: #666;\n",
              "  }\n",
              "\n",
              "  .colab-df-quickchart {\n",
              "    background-color: var(--bg-color);\n",
              "    border: none;\n",
              "    border-radius: 50%;\n",
              "    cursor: pointer;\n",
              "    display: none;\n",
              "    fill: var(--fill-color);\n",
              "    height: 32px;\n",
              "    padding: 0;\n",
              "    width: 32px;\n",
              "  }\n",
              "\n",
              "  .colab-df-quickchart:hover {\n",
              "    background-color: var(--hover-bg-color);\n",
              "    box-shadow: 0 1px 2px rgba(60, 64, 67, 0.3), 0 1px 3px 1px rgba(60, 64, 67, 0.15);\n",
              "    fill: var(--button-hover-fill-color);\n",
              "  }\n",
              "\n",
              "  .colab-df-quickchart-complete:disabled,\n",
              "  .colab-df-quickchart-complete:disabled:hover {\n",
              "    background-color: var(--disabled-bg-color);\n",
              "    fill: var(--disabled-fill-color);\n",
              "    box-shadow: none;\n",
              "  }\n",
              "\n",
              "  .colab-df-spinner {\n",
              "    border: 2px solid var(--fill-color);\n",
              "    border-color: transparent;\n",
              "    border-bottom-color: var(--fill-color);\n",
              "    animation:\n",
              "      spin 1s steps(1) infinite;\n",
              "  }\n",
              "\n",
              "  @keyframes spin {\n",
              "    0% {\n",
              "      border-color: transparent;\n",
              "      border-bottom-color: var(--fill-color);\n",
              "      border-left-color: var(--fill-color);\n",
              "    }\n",
              "    20% {\n",
              "      border-color: transparent;\n",
              "      border-left-color: var(--fill-color);\n",
              "      border-top-color: var(--fill-color);\n",
              "    }\n",
              "    30% {\n",
              "      border-color: transparent;\n",
              "      border-left-color: var(--fill-color);\n",
              "      border-top-color: var(--fill-color);\n",
              "      border-right-color: var(--fill-color);\n",
              "    }\n",
              "    40% {\n",
              "      border-color: transparent;\n",
              "      border-right-color: var(--fill-color);\n",
              "      border-top-color: var(--fill-color);\n",
              "    }\n",
              "    60% {\n",
              "      border-color: transparent;\n",
              "      border-right-color: var(--fill-color);\n",
              "    }\n",
              "    80% {\n",
              "      border-color: transparent;\n",
              "      border-right-color: var(--fill-color);\n",
              "      border-bottom-color: var(--fill-color);\n",
              "    }\n",
              "    90% {\n",
              "      border-color: transparent;\n",
              "      border-bottom-color: var(--fill-color);\n",
              "    }\n",
              "  }\n",
              "</style>\n",
              "\n",
              "      <script>\n",
              "        async function quickchart(key) {\n",
              "          const quickchartButtonEl =\n",
              "            document.querySelector('#' + key + ' button');\n",
              "          quickchartButtonEl.disabled = true;  // To prevent multiple clicks.\n",
              "          quickchartButtonEl.classList.add('colab-df-spinner');\n",
              "          try {\n",
              "            const charts = await google.colab.kernel.invokeFunction(\n",
              "                'suggestCharts', [key], {});\n",
              "          } catch (error) {\n",
              "            console.error('Error during call to suggestCharts:', error);\n",
              "          }\n",
              "          quickchartButtonEl.classList.remove('colab-df-spinner');\n",
              "          quickchartButtonEl.classList.add('colab-df-quickchart-complete');\n",
              "        }\n",
              "        (() => {\n",
              "          let quickchartButtonEl =\n",
              "            document.querySelector('#df-19baef77-a825-4c6b-8b41-f65f91ea766d button');\n",
              "          quickchartButtonEl.style.display =\n",
              "            google.colab.kernel.accessAllowed ? 'block' : 'none';\n",
              "        })();\n",
              "      </script>\n",
              "    </div>\n",
              "\n",
              "    </div>\n",
              "  </div>\n"
            ],
            "application/vnd.google.colaboratory.intrinsic+json": {
              "type": "dataframe",
              "variable_name": "df",
              "summary": "{\n  \"name\": \"df\",\n  \"rows\": 768,\n  \"fields\": [\n    {\n      \"column\": \"Pregnancies\",\n      \"properties\": {\n        \"dtype\": \"number\",\n        \"std\": 3,\n        \"min\": 0,\n        \"max\": 17,\n        \"num_unique_values\": 17,\n        \"samples\": [\n          6,\n          1,\n          3\n        ],\n        \"semantic_type\": \"\",\n        \"description\": \"\"\n      }\n    },\n    {\n      \"column\": \"Glucose\",\n      \"properties\": {\n        \"dtype\": \"number\",\n        \"std\": 31,\n        \"min\": 0,\n        \"max\": 199,\n        \"num_unique_values\": 136,\n        \"samples\": [\n          151,\n          101,\n          112\n        ],\n        \"semantic_type\": \"\",\n        \"description\": \"\"\n      }\n    },\n    {\n      \"column\": \"BloodPressure\",\n      \"properties\": {\n        \"dtype\": \"number\",\n        \"std\": 19,\n        \"min\": 0,\n        \"max\": 122,\n        \"num_unique_values\": 47,\n        \"samples\": [\n          86,\n          46,\n          85\n        ],\n        \"semantic_type\": \"\",\n        \"description\": \"\"\n      }\n    },\n    {\n      \"column\": \"SkinThickness\",\n      \"properties\": {\n        \"dtype\": \"number\",\n        \"std\": 15,\n        \"min\": 0,\n        \"max\": 99,\n        \"num_unique_values\": 51,\n        \"samples\": [\n          7,\n          12,\n          48\n        ],\n        \"semantic_type\": \"\",\n        \"description\": \"\"\n      }\n    },\n    {\n      \"column\": \"Insulin\",\n      \"properties\": {\n        \"dtype\": \"number\",\n        \"std\": 115,\n        \"min\": 0,\n        \"max\": 846,\n        \"num_unique_values\": 186,\n        \"samples\": [\n          52,\n          41,\n          183\n        ],\n        \"semantic_type\": \"\",\n        \"description\": \"\"\n      }\n    },\n    {\n      \"column\": \"BMI\",\n      \"properties\": {\n        \"dtype\": \"number\",\n        \"std\": 7.8841603203754405,\n        \"min\": 0.0,\n        \"max\": 67.1,\n        \"num_unique_values\": 248,\n        \"samples\": [\n          19.9,\n          31.0,\n          38.1\n        ],\n        \"semantic_type\": \"\",\n        \"description\": \"\"\n      }\n    },\n    {\n      \"column\": \"DiabetesPedigreeFunction\",\n      \"properties\": {\n        \"dtype\": \"number\",\n        \"std\": 0.33132859501277484,\n        \"min\": 0.078,\n        \"max\": 2.42,\n        \"num_unique_values\": 517,\n        \"samples\": [\n          1.731,\n          0.426,\n          0.138\n        ],\n        \"semantic_type\": \"\",\n        \"description\": \"\"\n      }\n    },\n    {\n      \"column\": \"Age\",\n      \"properties\": {\n        \"dtype\": \"number\",\n        \"std\": 11,\n        \"min\": 21,\n        \"max\": 81,\n        \"num_unique_values\": 52,\n        \"samples\": [\n          60,\n          47,\n          72\n        ],\n        \"semantic_type\": \"\",\n        \"description\": \"\"\n      }\n    },\n    {\n      \"column\": \"Outcome\",\n      \"properties\": {\n        \"dtype\": \"number\",\n        \"std\": 0,\n        \"min\": 0,\n        \"max\": 1,\n        \"num_unique_values\": 2,\n        \"samples\": [\n          0,\n          1\n        ],\n        \"semantic_type\": \"\",\n        \"description\": \"\"\n      }\n    }\n  ]\n}"
            }
          },
          "metadata": {},
          "execution_count": 5
        }
      ]
    },
    {
      "cell_type": "code",
      "source": [
        "X=df.drop('Outcome',axis=1)\n",
        "y=df['Outcome']"
      ],
      "metadata": {
        "id": "m5Cc4iSIqwUS"
      },
      "execution_count": null,
      "outputs": []
    },
    {
      "cell_type": "markdown",
      "source": [
        "Step 2: Preparing for Learning - Splitting and Scaling"
      ],
      "metadata": {
        "id": "bMCEcXhesMJS"
      }
    },
    {
      "cell_type": "code",
      "source": [
        "X_train,X_test,y_train,y_test=train_test_split(X,y,test_size=0.2,random_state=42)\n",
        "#random_state=42 ensures that every time we run the code, the split is exactly the same, which is crucial for reproducibility in research.\n",
        "scaler=StandardScaler()\n",
        "#StandardScaler transforms the data so that each feature has a mean of 0 and a standard deviation of 1.\n",
        "X_train_scaled=scaler.fit_transform(X_train)\n",
        "#We fit the scaler to the training data. This step calculates the mean and standard deviation for each feature. We then immediately transform the training data using these values.\n",
        "X_test_scaled=scaler.transform(X_test)\n",
        "#We only transform the testing data. It's a common mistake to fit the scaler on the test data. Doing so would \"leak\" information from the test set into the training process, leading to an artificially high and misleading accuracy score."
      ],
      "metadata": {
        "id": "KC6x4qFmrGVH"
      },
      "execution_count": null,
      "outputs": []
    },
    {
      "cell_type": "markdown",
      "source": [
        "Check :"
      ],
      "metadata": {
        "id": "dwOmm-byuMT5"
      }
    },
    {
      "cell_type": "code",
      "source": [
        "X_train_scaled.shape"
      ],
      "metadata": {
        "colab": {
          "base_uri": "https://localhost:8080/"
        },
        "id": "qiqqw-bCuOHU",
        "outputId": "5d66930a-cf3c-4635-b56c-9a4239e0b1b8"
      },
      "execution_count": null,
      "outputs": [
        {
          "output_type": "execute_result",
          "data": {
            "text/plain": [
              "(614, 8)"
            ]
          },
          "metadata": {},
          "execution_count": 8
        }
      ]
    },
    {
      "cell_type": "markdown",
      "source": [
        "Step 3: Building the Brain - The Neural Network Architecture"
      ],
      "metadata": {
        "id": "bHFR5fPxttM0"
      }
    },
    {
      "cell_type": "code",
      "source": [
        "model=Sequential()\n",
        "#This initializes a Sequential model, which is the simplest type of neural network in Keras. It lets you stack layers on top of each other.\n",
        "model.add(Dense(64,activation='relu',input_shape=(X_train_scaled.shape[1],)))\n",
        "#The first layer has 64 neurons. input_shape is only required for the first layer and tells the model to expect 8 input features.\n",
        "#This also creates a tuple with one element, but the trailing comma explicitly tells Python it's a tuple.\n",
        "model.add(Dense(32,activation='relu'))\n",
        "#The second layer has 32 neurons. The number of neurons in hidden layers is a hyperparameter you can tune for a project.\n",
        "model.add(Dense(1,activation='sigmoid'))\n",
        "#This is the output layer. We use 1 neuron because we're predicting one of two outcomes (diabetes or not). The sigmoid activation function is perfect for binary classification, as it squashes the output into a probability between 0 and 1. A value of 0.75 would mean a 75% chance of diabetes."
      ],
      "metadata": {
        "colab": {
          "base_uri": "https://localhost:8080/"
        },
        "id": "6-Lmhaezs6WV",
        "outputId": "b9b01a16-28e5-4f45-ecea-9e5b1de29ebd"
      },
      "execution_count": null,
      "outputs": [
        {
          "output_type": "stream",
          "name": "stderr",
          "text": [
            "/usr/local/lib/python3.11/dist-packages/keras/src/layers/core/dense.py:93: UserWarning: Do not pass an `input_shape`/`input_dim` argument to a layer. When using Sequential models, prefer using an `Input(shape)` object as the first layer in the model instead.\n",
            "  super().__init__(activity_regularizer=activity_regularizer, **kwargs)\n"
          ]
        }
      ]
    },
    {
      "cell_type": "markdown",
      "source": [
        "Step 4: The Game Plan - Compiling the Model"
      ],
      "metadata": {
        "id": "uVH4iUyuwYmC"
      }
    },
    {
      "cell_type": "code",
      "source": [
        "#model.compile(...): This is a crucial step that configures the model for training.\n",
        "model.compile(optimizer='adam',\n",
        "              #optimizer='adam': The optimizer is the algorithm that adjusts the weights and biases of the network during training to minimize the error. Adam is a highly efficient and widely used optimizer.\n",
        "              loss='binary_crossentropy',\n",
        "              #loss='binary_crossentropy': The loss function measures how wrong the model's predictions are. For binary classification, binary crossentropy is the standard choice. The goal of training is to reduce this value.\n",
        "              metrics=['accuracy'])\n",
        "              #metrics=['accuracy']: This tells the model to track and report accuracy (the percentage of correct predictions) during training, which gives us a clear understanding of its performance.\n",
        "\n",
        "model.summary()\n",
        "#This command prints a table summarizing the network's layers, output shapes, and the total number of parameters. This is useful for debugging and understanding your model's complexity.\n"
      ],
      "metadata": {
        "colab": {
          "base_uri": "https://localhost:8080/",
          "height": 225
        },
        "id": "h5S9R79Eu_2Z",
        "outputId": "2a2ab8b2-5055-4137-d723-368457cf8595"
      },
      "execution_count": null,
      "outputs": [
        {
          "output_type": "display_data",
          "data": {
            "text/plain": [
              "\u001b[1mModel: \"sequential\"\u001b[0m\n"
            ],
            "text/html": [
              "<pre style=\"white-space:pre;overflow-x:auto;line-height:normal;font-family:Menlo,'DejaVu Sans Mono',consolas,'Courier New',monospace\"><span style=\"font-weight: bold\">Model: \"sequential\"</span>\n",
              "</pre>\n"
            ]
          },
          "metadata": {}
        },
        {
          "output_type": "display_data",
          "data": {
            "text/plain": [
              "┏━━━━━━━━━━━━━━━━━━━━━━━━━━━━━━━━━┳━━━━━━━━━━━━━━━━━━━━━━━━┳━━━━━━━━━━━━━━━┓\n",
              "┃\u001b[1m \u001b[0m\u001b[1mLayer (type)                   \u001b[0m\u001b[1m \u001b[0m┃\u001b[1m \u001b[0m\u001b[1mOutput Shape          \u001b[0m\u001b[1m \u001b[0m┃\u001b[1m \u001b[0m\u001b[1m      Param #\u001b[0m\u001b[1m \u001b[0m┃\n",
              "┡━━━━━━━━━━━━━━━━━━━━━━━━━━━━━━━━━╇━━━━━━━━━━━━━━━━━━━━━━━━╇━━━━━━━━━━━━━━━┩\n",
              "│ dense (\u001b[38;5;33mDense\u001b[0m)                   │ (\u001b[38;5;45mNone\u001b[0m, \u001b[38;5;34m64\u001b[0m)             │           \u001b[38;5;34m576\u001b[0m │\n",
              "├─────────────────────────────────┼────────────────────────┼───────────────┤\n",
              "│ dense_1 (\u001b[38;5;33mDense\u001b[0m)                 │ (\u001b[38;5;45mNone\u001b[0m, \u001b[38;5;34m32\u001b[0m)             │         \u001b[38;5;34m2,080\u001b[0m │\n",
              "├─────────────────────────────────┼────────────────────────┼───────────────┤\n",
              "│ dense_2 (\u001b[38;5;33mDense\u001b[0m)                 │ (\u001b[38;5;45mNone\u001b[0m, \u001b[38;5;34m1\u001b[0m)              │            \u001b[38;5;34m33\u001b[0m │\n",
              "└─────────────────────────────────┴────────────────────────┴───────────────┘\n"
            ],
            "text/html": [
              "<pre style=\"white-space:pre;overflow-x:auto;line-height:normal;font-family:Menlo,'DejaVu Sans Mono',consolas,'Courier New',monospace\">┏━━━━━━━━━━━━━━━━━━━━━━━━━━━━━━━━━┳━━━━━━━━━━━━━━━━━━━━━━━━┳━━━━━━━━━━━━━━━┓\n",
              "┃<span style=\"font-weight: bold\"> Layer (type)                    </span>┃<span style=\"font-weight: bold\"> Output Shape           </span>┃<span style=\"font-weight: bold\">       Param # </span>┃\n",
              "┡━━━━━━━━━━━━━━━━━━━━━━━━━━━━━━━━━╇━━━━━━━━━━━━━━━━━━━━━━━━╇━━━━━━━━━━━━━━━┩\n",
              "│ dense (<span style=\"color: #0087ff; text-decoration-color: #0087ff\">Dense</span>)                   │ (<span style=\"color: #00d7ff; text-decoration-color: #00d7ff\">None</span>, <span style=\"color: #00af00; text-decoration-color: #00af00\">64</span>)             │           <span style=\"color: #00af00; text-decoration-color: #00af00\">576</span> │\n",
              "├─────────────────────────────────┼────────────────────────┼───────────────┤\n",
              "│ dense_1 (<span style=\"color: #0087ff; text-decoration-color: #0087ff\">Dense</span>)                 │ (<span style=\"color: #00d7ff; text-decoration-color: #00d7ff\">None</span>, <span style=\"color: #00af00; text-decoration-color: #00af00\">32</span>)             │         <span style=\"color: #00af00; text-decoration-color: #00af00\">2,080</span> │\n",
              "├─────────────────────────────────┼────────────────────────┼───────────────┤\n",
              "│ dense_2 (<span style=\"color: #0087ff; text-decoration-color: #0087ff\">Dense</span>)                 │ (<span style=\"color: #00d7ff; text-decoration-color: #00d7ff\">None</span>, <span style=\"color: #00af00; text-decoration-color: #00af00\">1</span>)              │            <span style=\"color: #00af00; text-decoration-color: #00af00\">33</span> │\n",
              "└─────────────────────────────────┴────────────────────────┴───────────────┘\n",
              "</pre>\n"
            ]
          },
          "metadata": {}
        },
        {
          "output_type": "display_data",
          "data": {
            "text/plain": [
              "\u001b[1m Total params: \u001b[0m\u001b[38;5;34m2,689\u001b[0m (10.50 KB)\n"
            ],
            "text/html": [
              "<pre style=\"white-space:pre;overflow-x:auto;line-height:normal;font-family:Menlo,'DejaVu Sans Mono',consolas,'Courier New',monospace\"><span style=\"font-weight: bold\"> Total params: </span><span style=\"color: #00af00; text-decoration-color: #00af00\">2,689</span> (10.50 KB)\n",
              "</pre>\n"
            ]
          },
          "metadata": {}
        },
        {
          "output_type": "display_data",
          "data": {
            "text/plain": [
              "\u001b[1m Trainable params: \u001b[0m\u001b[38;5;34m2,689\u001b[0m (10.50 KB)\n"
            ],
            "text/html": [
              "<pre style=\"white-space:pre;overflow-x:auto;line-height:normal;font-family:Menlo,'DejaVu Sans Mono',consolas,'Courier New',monospace\"><span style=\"font-weight: bold\"> Trainable params: </span><span style=\"color: #00af00; text-decoration-color: #00af00\">2,689</span> (10.50 KB)\n",
              "</pre>\n"
            ]
          },
          "metadata": {}
        },
        {
          "output_type": "display_data",
          "data": {
            "text/plain": [
              "\u001b[1m Non-trainable params: \u001b[0m\u001b[38;5;34m0\u001b[0m (0.00 B)\n"
            ],
            "text/html": [
              "<pre style=\"white-space:pre;overflow-x:auto;line-height:normal;font-family:Menlo,'DejaVu Sans Mono',consolas,'Courier New',monospace\"><span style=\"font-weight: bold\"> Non-trainable params: </span><span style=\"color: #00af00; text-decoration-color: #00af00\">0</span> (0.00 B)\n",
              "</pre>\n"
            ]
          },
          "metadata": {}
        }
      ]
    },
    {
      "cell_type": "markdown",
      "source": [
        "Model: \"sequential_2\":\n",
        "\n",
        "This is the name of your model. Since you used tf.keras.models.Sequential(), Keras gives it a default name like \"sequential_2\"."
      ],
      "metadata": {
        "id": "IIgjEME4yfKr"
      }
    },
    {
      "cell_type": "markdown",
      "source": [
        "Layer (type):\n",
        "\n",
        "This column lists the layers in your neural network in the order they are added.\n",
        "\n",
        "dense_2 (Dense): This is the first layer you added. It's a Dense layer, which means it's a fully connected layer where every neuron in this layer is connected to every neuron in the previous layer (which are your input features in this case).\n",
        "\n",
        "dense_3 (Dense): This is the second Dense layer, a hidden layer in your network.\n",
        "\n",
        "dense_4 (Dense): This is the third Dense layer, which is your output layer."
      ],
      "metadata": {
        "id": "mLphjREvy1X-"
      }
    },
    {
      "cell_type": "markdown",
      "source": [
        "Output Shape:\n",
        "\n",
        " This column shows the shape of the tensor that each layer outputs.\n",
        "\n",
        "(None, 64): The None represents the batch size. When you train or predict with your model, you'll typically feed data in batches. The None means the model can handle any batch size. The 64 indicates that this layer has 64 neurons, and each neuron will output a value.\n",
        "\n",
        "(None, 32): This layer outputs a tensor with an arbitrary batch size and 32 features (from the 32 neurons in this layer).\n",
        "\n",
        "(None, 1): The output layer has 1 neuron, so it outputs a tensor with an arbitrary batch size and 1 value. In your case, this value represents the probability of the patient having diabetes"
      ],
      "metadata": {
        "id": "UQadqefnziW1"
      }
    },
    {
      "cell_type": "markdown",
      "source": [
        "Param #:\n",
        "\n",
        "This column shows the number of parameters (weights and biases) in each layer. These are the values that the model learns during the training process to make predictions.\n",
        "\n",
        "576: For the first Dense layer, the number of parameters is calculated as\n",
        "\n",
        " (number of inputs * number of neurons) + number of neurons (for biases). You have 8 input features (X_train_scaled.shape[1]) and 64 neurons,\n",
        "\n",
        " so the calculation is (8 * 64) + 64 = 512 + 64 = 576.\n",
        "\n",
        "2,080: For the second Dense layer, the number of parameters is calculated as\n",
        "\n",
        "(number of inputs from the previous layer * number of neurons) + number of neurons. The previous layer (dense_2) has 64 outputs, and this layer has 32 neurons,\n",
        "\n",
        "so the calculation is (64 * 32) + 32 = 2048 + 32 = 2080.\n",
        "\n",
        "\n",
        "33: For the output layer, the number of parameters is calculated as\n",
        "\n",
        " (number of inputs from the previous layer * number of neurons) + number of neurons. The previous layer (dense_3) has 32 outputs, and this layer has 1 neuron,\n",
        "\n",
        "  so the calculation is (32 * 1) + 1 = 32 + 1 = 33."
      ],
      "metadata": {
        "id": "4q51SBA0zvUu"
      }
    },
    {
      "cell_type": "markdown",
      "source": [
        "Total params: This is the sum of the parameters in all layers (576 + 2080 + 33 = 2689).\n",
        "\n",
        "Trainable params: These are the parameters that the optimizer will adjust during training to minimize the loss function. In this case, all parameters are trainable.\n",
        "\n",
        "Non-trainable params: These are parameters that are not updated during training. This is common when using pre-trained models or freezing certain layers. In your case, there are none.\n",
        "\n",
        "Understanding the model summary helps you visualize the structure of your network and see how the number of parameters grows with each layer. This can be useful for debugging and optimizing your model."
      ],
      "metadata": {
        "id": "qrIzuD371FT0"
      }
    },
    {
      "cell_type": "markdown",
      "source": [
        "Step 5: The Learning Process - Training the Model"
      ],
      "metadata": {
        "id": "-zBqUClx1XYw"
      }
    },
    {
      "cell_type": "code",
      "source": [
        "print(\"Training the model...\")\n",
        "history=model.fit(X_train_scaled,y_train,#This command starts the training process.\n",
        "                  epochs=2,#An epoch is one complete pass through the entire training dataset. We're telling the model to do this 2 times, as it takes multiple passes to learn the patterns in the data.\n",
        "                  batch_size=32,#The training data is processed in smaller chunks (or batches) of 32 samples. This makes the training process more memory-efficient and helps the model converge faster.\n",
        "                  validation_split=0.1,#During training, 10% of the training data is set aside to serve as a validation set. This helps us monitor for overfitting—when a model performs perfectly on the training data but poorly on new, unseen data.\n",
        "                  verbose=1)#Progress bar. A progress bar is displayed for each epoch, showing the progress of training and validation (if applicable). This is what you saw in the output you provided."
      ],
      "metadata": {
        "colab": {
          "base_uri": "https://localhost:8080/"
        },
        "id": "SMP34BcPymbB",
        "outputId": "a996e585-e243-4986-dcd6-18b3e8662ab4"
      },
      "execution_count": null,
      "outputs": [
        {
          "output_type": "stream",
          "name": "stdout",
          "text": [
            "Training the model...\n",
            "Epoch 1/2\n",
            "\u001b[1m18/18\u001b[0m \u001b[32m━━━━━━━━━━━━━━━━━━━━\u001b[0m\u001b[37m\u001b[0m \u001b[1m2s\u001b[0m 24ms/step - accuracy: 0.6580 - loss: 0.6519 - val_accuracy: 0.7258 - val_loss: 0.6141\n",
            "Epoch 2/2\n",
            "\u001b[1m18/18\u001b[0m \u001b[32m━━━━━━━━━━━━━━━━━━━━\u001b[0m\u001b[37m\u001b[0m \u001b[1m0s\u001b[0m 8ms/step - accuracy: 0.7512 - loss: 0.5502 - val_accuracy: 0.7419 - val_loss: 0.5673\n"
          ]
        }
      ]
    },
    {
      "cell_type": "markdown",
      "source": [
        "Epoch 1/2 and Epoch 2/2: This indicates which training epoch is currently running out of the total number of epochs you specified (in this case, 2).\n",
        "\n",
        "18/18: This means that each epoch consists of 18 batches, and all 18 batches have been processed.\n",
        "\n",
        "accuracy: 0.8215 (Epoch 1) and 0.8092 (Epoch 2): This is the accuracy of your model on the training data after each epoch. It represents the proportion of correctly classified instances in the training set.\n",
        "\n",
        "loss: 0.4420 (Epoch 1) and 0.4465 (Epoch 2): This is the loss of your model on the training data after each epoch. The loss function (binary crossentropy in your case) measures how well the model is performing; lower values indicate better performance.\n",
        "\n",
        "val_accuracy: 0.6774 (Epoch 1) and 0.7097 (Epoch 2): This is the accuracy of your model on the validation data after each epoch. The validation data is a subset of the training data that the model has not seen during the actual training process. This metric helps you monitor for overfitting.\n",
        "\n",
        "val_loss: 0.5307 (Epoch 1) and 0.5175 (Epoch 2): This is the loss of your model on the validation data after each epoch. Similar to the training loss, lower values indicate better performance on the validation set.\n",
        "\n",
        "In your output, verbose=1 is why you see the progress bar (━━━━━━━━━━━━━━━━━━━━) and the details about batches (18/18) and the metrics for each epoch.\n",
        "\n",
        "In this output, you can see that the training accuracy is relatively high, while the validation accuracy is lower. This might suggest some degree of overfitting, although with only two epochs, it's hard to say definitively.\n",
        "\n",
        "Increasing the number of epochs would allow the model to learn more, and monitoring the validation accuracy and loss over more epochs will give you a better indication of how well your model generalizes to unseen data\n",
        "\n"
      ],
      "metadata": {
        "id": "y1j5OU923CpR"
      }
    },
    {
      "cell_type": "markdown",
      "source": [
        "**verbose**\n",
        "\n",
        "controls how much information is displayed during the training process:\n",
        "\n",
        "verbose=0: Silent mode. No output is printed to the console during training.\n",
        "verbose=1: Progress bar. A progress bar is displayed for each epoch, showing the progress of training and validation (if applicable). This is what you saw in the output you provided.\n",
        "verbose=2: One line per epoch. Only the training and validation metrics for each epoch are printed on a new line."
      ],
      "metadata": {
        "id": "RQXz3Hc-4sES"
      }
    },
    {
      "cell_type": "code",
      "source": [
        "print(\"Training the model...\")\n",
        "history=model.fit(X_train_scaled,y_train,#This command starts the training process.\n",
        "                  epochs=2,#An epoch is one complete pass through the entire training dataset. We're telling the model to do this 2 times, as it takes multiple passes to learn the patterns in the data.\n",
        "                  batch_size=32,#The training data is processed in smaller chunks (or batches) of 32 samples. This makes the training process more memory-efficient and helps the model converge faster.\n",
        "                  validation_split=0.1,#During training, 10% of the training data is set aside to serve as a validation set. This helps us monitor for overfitting—when a model performs perfectly on the training data but poorly on new, unseen data.\n",
        "                  verbose=2)#Progress bar. A progress bar is displayed for each epoch, showing the progress of training and validation (if applicable). This is what you saw in the output you provided."
      ],
      "metadata": {
        "colab": {
          "base_uri": "https://localhost:8080/"
        },
        "id": "icc9l6P2wrgC",
        "outputId": "c142a13e-be48-497a-b435-71735540bcba"
      },
      "execution_count": null,
      "outputs": [
        {
          "output_type": "stream",
          "name": "stdout",
          "text": [
            "Training the model...\n",
            "Epoch 1/2\n",
            "18/18 - 0s - 8ms/step - accuracy: 0.7681 - loss: 0.5051 - val_accuracy: 0.7742 - val_loss: 0.5300\n",
            "Epoch 2/2\n",
            "18/18 - 0s - 6ms/step - accuracy: 0.7754 - loss: 0.4769 - val_accuracy: 0.7742 - val_loss: 0.5151\n"
          ]
        }
      ]
    },
    {
      "cell_type": "markdown",
      "source": [
        "Step 6: The Final Grade - Evaluating Performance"
      ],
      "metadata": {
        "id": "CK9QYGZ440hH"
      }
    },
    {
      "cell_type": "markdown",
      "source": [
        "This is the most critical step for any research paper. We use this to test the trained model on the unseen test data. The resulting accuracy score tells us how well the model is likely to perform in a real-world scenario."
      ],
      "metadata": {
        "id": "dA27jQ9-1wMB"
      }
    },
    {
      "cell_type": "code",
      "source": [
        "loss,accuracy=model.evaluate(X_test_scaled,y_test,verbose=0)\n",
        "print(f\"Test Loss: {loss}, \\nTest Accuracy: {accuracy}\")"
      ],
      "metadata": {
        "colab": {
          "base_uri": "https://localhost:8080/"
        },
        "id": "JblAP_9Q4YlM",
        "outputId": "12d3129a-78ed-440c-b1df-34c17470c63d"
      },
      "execution_count": null,
      "outputs": [
        {
          "output_type": "stream",
          "name": "stdout",
          "text": [
            "Test Loss: 0.5125934481620789, \n",
            "Test Accuracy: 0.7727272510528564\n"
          ]
        }
      ]
    },
    {
      "cell_type": "markdown",
      "source": [
        "Step 7: Real-World Application - Making a Prediction"
      ],
      "metadata": {
        "id": "eBFM-ver1psb"
      }
    },
    {
      "cell_type": "markdown",
      "source": [
        "______________________________\n"
      ],
      "metadata": {
        "id": "tlD7JL5SclfA"
      }
    },
    {
      "cell_type": "markdown",
      "source": [
        "PROGRAM ELEMENTS IN TENSORFLOW"
      ],
      "metadata": {
        "id": "v6V3--itcytI"
      }
    },
    {
      "cell_type": "markdown",
      "source": [
        "Constants"
      ],
      "metadata": {
        "id": "f2BzX_H0c2gv"
      }
    },
    {
      "cell_type": "markdown",
      "source": [
        "Parameters whose value foes not change."
      ],
      "metadata": {
        "id": "WtLLF3Q7c_u6"
      }
    },
    {
      "cell_type": "code",
      "source": [
        "import tensorflow as tf"
      ],
      "metadata": {
        "id": "vPv4_Rc8dTKW"
      },
      "execution_count": null,
      "outputs": []
    },
    {
      "cell_type": "code",
      "source": [
        "a=tf.constant(5.0,tf.float32)\n",
        "a"
      ],
      "metadata": {
        "colab": {
          "base_uri": "https://localhost:8080/"
        },
        "id": "XJLno-mvc0yG",
        "outputId": "979a185b-2252-436e-d520-d3f5d6a81eca"
      },
      "execution_count": null,
      "outputs": [
        {
          "output_type": "execute_result",
          "data": {
            "text/plain": [
              "<tf.Tensor: shape=(), dtype=float32, numpy=5.0>"
            ]
          },
          "metadata": {},
          "execution_count": 4
        }
      ]
    },
    {
      "cell_type": "code",
      "source": [
        "b=tf.constant(3.0)\n",
        "b"
      ],
      "metadata": {
        "colab": {
          "base_uri": "https://localhost:8080/"
        },
        "id": "auelPi-SdRvx",
        "outputId": "d3601106-f66e-47c2-da9e-e4cea5801c8d"
      },
      "execution_count": null,
      "outputs": [
        {
          "output_type": "execute_result",
          "data": {
            "text/plain": [
              "<tf.Tensor: shape=(), dtype=float32, numpy=3.0>"
            ]
          },
          "metadata": {},
          "execution_count": 5
        }
      ]
    },
    {
      "cell_type": "code",
      "source": [
        "print(a,b)"
      ],
      "metadata": {
        "colab": {
          "base_uri": "https://localhost:8080/"
        },
        "id": "fW57Q3WOdgdF",
        "outputId": "1c611e82-d788-4375-9c1b-46eba0a41689"
      },
      "execution_count": null,
      "outputs": [
        {
          "output_type": "stream",
          "name": "stdout",
          "text": [
            "tf.Tensor(5.0, shape=(), dtype=float32) tf.Tensor(3.0, shape=(), dtype=float32)\n"
          ]
        }
      ]
    },
    {
      "cell_type": "markdown",
      "source": [
        "PLACEHOLDER"
      ],
      "metadata": {
        "id": "GfIclef-eJnx"
      }
    },
    {
      "cell_type": "markdown",
      "source": [
        "To feed data to a tensorflow model from outside a model.It permits a value to be assigned later."
      ],
      "metadata": {
        "id": "TEiLSSMBeMTP"
      }
    },
    {
      "cell_type": "code",
      "source": [
        "# In newer versions of TensorFlow, tf.placeholder is not used.\n",
        "# Input data is typically handled by passing data directly to model layers or functions.\n",
        "# If you need to define an input shape for a Keras model, use tf.keras.Input.\n",
        "# Example (not directly applicable here as this was just demonstrating placeholder):\n",
        "# input_tensor = tf.keras.Input(shape=(input_dimension,))\n",
        "# c = input_tensor # This would be used within a Keras model definition\n",
        "\n",
        "# Since the original code was just demonstrating placeholder,\n",
        "# we can remove this line as it's no longer valid TensorFlow syntax.\n",
        "# If you intended to define a variable that can be assigned a value later,\n",
        "# consider using tf.Variable or other TensorFlow constructs depending on your use case.\n",
        "\n",
        "# Removing the erroneous line:\n",
        "# c = tf.placeholder(tf.float32)\n",
        "\n",
        "# If you want to define a variable whose value can change, you might use tf.Variable:\n",
        "# c = tf.Variable(0.0, dtype=tf.float32)\n",
        "# You can then assign a new value to it later:\n",
        "# c.assign(some_new_value)\n",
        "\n",
        "# Since the original intent was likely just to show a concept no longer valid,\n",
        "# I'll leave this cell without the erroneous line."
      ],
      "metadata": {
        "id": "qA5U1X1qd5wo"
      },
      "execution_count": null,
      "outputs": []
    },
    {
      "cell_type": "markdown",
      "source": [
        "VARIABLES"
      ],
      "metadata": {
        "id": "FLgRY1rtik__"
      }
    },
    {
      "cell_type": "markdown",
      "source": [
        "Allow us to add new trinable parameters to graph."
      ],
      "metadata": {
        "id": "cIKyuRVcioEv"
      }
    },
    {
      "cell_type": "markdown",
      "source": [
        "Initialize it before running the graph in a session"
      ],
      "metadata": {
        "id": "K-rEgx7ei2eQ"
      }
    },
    {
      "cell_type": "code",
      "source": [
        "c=tf.Variable([.5],dtype=tf.float32)\n",
        "c"
      ],
      "metadata": {
        "colab": {
          "base_uri": "https://localhost:8080/"
        },
        "id": "vk2qHYEweY11",
        "outputId": "1fb92a8b-47d9-4b08-b33b-973b7292d1d0"
      },
      "execution_count": null,
      "outputs": [
        {
          "output_type": "execute_result",
          "data": {
            "text/plain": [
              "<tf.Variable 'Variable:0' shape=(1,) dtype=float32, numpy=array([0.5], dtype=float32)>"
            ]
          },
          "metadata": {},
          "execution_count": 10
        }
      ]
    },
    {
      "cell_type": "code",
      "source": [
        "d=tf.Variable([-1.0],dtype=tf.float32)\n",
        "d"
      ],
      "metadata": {
        "colab": {
          "base_uri": "https://localhost:8080/"
        },
        "id": "THiSjVpWjI_R",
        "outputId": "bd6f2e86-abfb-43cd-e7d2-12e342fddf3b"
      },
      "execution_count": null,
      "outputs": [
        {
          "output_type": "execute_result",
          "data": {
            "text/plain": [
              "<tf.Variable 'Variable:0' shape=(1,) dtype=float32, numpy=array([-1.], dtype=float32)>"
            ]
          },
          "metadata": {},
          "execution_count": 11
        }
      ]
    },
    {
      "cell_type": "markdown",
      "source": [
        "INTRODUCTION"
      ],
      "metadata": {
        "id": "PaL_d4e6jfJK"
      }
    },
    {
      "cell_type": "markdown",
      "source": [
        "Hello World - Very simple example to learn how to print \"hello world\" using TensorFlow."
      ],
      "metadata": {
        "id": "AB4_r35HjjyV"
      }
    },
    {
      "cell_type": "code",
      "source": [
        "import tensorflow as tf"
      ],
      "metadata": {
        "id": "gyze4-gJjP4Z"
      },
      "execution_count": null,
      "outputs": []
    },
    {
      "cell_type": "code",
      "source": [
        "# Simple hello world using TensorFlow\n",
        "\n",
        "# Create a Constant op\n",
        "# The op is added as a node to the default graph.\n",
        "#\n",
        "# The value returned by the constructor represents the output\n",
        "# of the Constant op."
      ],
      "metadata": {
        "id": "pCMDhifgj7CX"
      },
      "execution_count": null,
      "outputs": []
    },
    {
      "cell_type": "code",
      "source": [
        "op=tf.constant(\"Hello,Tensorflow\")\n",
        "print(\"Tensor_constant:\",op)\n",
        "print(\"Value_constant:\",op.numpy())"
      ],
      "metadata": {
        "colab": {
          "base_uri": "https://localhost:8080/"
        },
        "id": "gxRDvemPj_L1",
        "outputId": "ed7e825d-e78d-4a82-f239-a1539181f9b8"
      },
      "execution_count": null,
      "outputs": [
        {
          "output_type": "stream",
          "name": "stdout",
          "text": [
            "Tensor_constant: tf.Tensor(b'Hello,Tensorflow', shape=(), dtype=string)\n",
            "Value_constant: b'Hello,Tensorflow'\n"
          ]
        }
      ]
    },
    {
      "cell_type": "markdown",
      "source": [
        "Variable -  Learn to use variable in tensorflow."
      ],
      "metadata": {
        "id": "FPrY2X9cjn6P"
      }
    },
    {
      "cell_type": "code",
      "source": [
        "# Variables are manipulated via the tf.Variable class.\n",
        "# A tf.Variable represents a tensor whose value can be changed by running ops on it.\n",
        "# Specific ops allow you to read and modify the values of this tensor.\n",
        "\n",
        "## Creaging a Variable"
      ],
      "metadata": {
        "id": "nIVX2nwfkVQP"
      },
      "execution_count": null,
      "outputs": []
    },
    {
      "cell_type": "code",
      "source": [
        "variable=tf.Variable(1)\n",
        "print(\"Tensor_var:\",variable)\n",
        "print(\"Value_var:\",variable.numpy())"
      ],
      "metadata": {
        "colab": {
          "base_uri": "https://localhost:8080/"
        },
        "id": "NyBDccEhklNR",
        "outputId": "3843d6b0-a350-45ae-d65e-36edbada416b"
      },
      "execution_count": null,
      "outputs": [
        {
          "output_type": "stream",
          "name": "stdout",
          "text": [
            "Tensor_var: <tf.Variable 'Variable:0' shape=() dtype=int32, numpy=1>\n",
            "Value_var: 1\n"
          ]
        }
      ]
    },
    {
      "cell_type": "code",
      "source": [
        "## Using Variables\n",
        "\n",
        "# To use the value of a tf.Variable in a TensorFlow graph, simply treat it like a normal"
      ],
      "metadata": {
        "id": "_hr_L3w8lKnW"
      },
      "execution_count": null,
      "outputs": []
    },
    {
      "cell_type": "code",
      "source": [
        "variable_add=variable+1\n",
        "print(\"variable_add:\",variable_add.numpy())"
      ],
      "metadata": {
        "colab": {
          "base_uri": "https://localhost:8080/"
        },
        "id": "18CAhp1-lQCa",
        "outputId": "b98ea96d-4e2d-4d1a-d733-0f36de961cf0"
      },
      "execution_count": null,
      "outputs": [
        {
          "output_type": "stream",
          "name": "stdout",
          "text": [
            "variable_add: 2\n"
          ]
        }
      ]
    },
    {
      "cell_type": "code",
      "source": [
        "variable = tf.Variable(2)\n",
        "variable.assign_add(1)\n",
        "print(\"value:\", variable.numpy())"
      ],
      "metadata": {
        "colab": {
          "base_uri": "https://localhost:8080/"
        },
        "id": "Zdz9RATtltDh",
        "outputId": "de017d41-8180-408c-c1a7-1566a798e115"
      },
      "execution_count": null,
      "outputs": [
        {
          "output_type": "stream",
          "name": "stdout",
          "text": [
            "value: 3\n"
          ]
        }
      ]
    },
    {
      "cell_type": "markdown",
      "source": [
        "Basical operation (notebook) (code). A simple example that covers TensorFlow basic operations."
      ],
      "metadata": {
        "id": "0aIWix86jqSs"
      }
    },
    {
      "cell_type": "code",
      "source": [
        "#assign values\n",
        "a=tf.ones([2,3])\n",
        "print(a)"
      ],
      "metadata": {
        "colab": {
          "base_uri": "https://localhost:8080/"
        },
        "id": "MciXaFp_l1X-",
        "outputId": "db553d3c-8062-42d8-f2fc-5ee889dbda03"
      },
      "execution_count": null,
      "outputs": [
        {
          "output_type": "stream",
          "name": "stdout",
          "text": [
            "tf.Tensor(\n",
            "[[1. 1. 1.]\n",
            " [1. 1. 1.]], shape=(2, 3), dtype=float32)\n"
          ]
        }
      ]
    },
    {
      "cell_type": "code",
      "source": [
        "a=tf.Variable(a)\n",
        "a"
      ],
      "metadata": {
        "colab": {
          "base_uri": "https://localhost:8080/"
        },
        "id": "B9ixP6kqmS0f",
        "outputId": "9c3e410d-255b-4268-9c65-69ca36a9ad39"
      },
      "execution_count": null,
      "outputs": [
        {
          "output_type": "execute_result",
          "data": {
            "text/plain": [
              "<tf.Variable 'Variable:0' shape=(2, 3) dtype=float32, numpy=\n",
              "array([[1., 1., 1.],\n",
              "       [1., 1., 1.]], dtype=float32)>"
            ]
          },
          "metadata": {},
          "execution_count": 29
        }
      ]
    },
    {
      "cell_type": "code",
      "source": [
        "a[0,0]"
      ],
      "metadata": {
        "colab": {
          "base_uri": "https://localhost:8080/"
        },
        "id": "9aHNOfOzmdEo",
        "outputId": "221351f2-517f-44be-c900-678f6726f05d"
      },
      "execution_count": null,
      "outputs": [
        {
          "output_type": "execute_result",
          "data": {
            "text/plain": [
              "<tf.Tensor: shape=(), dtype=float32, numpy=1.0>"
            ]
          },
          "metadata": {},
          "execution_count": 30
        }
      ]
    },
    {
      "cell_type": "code",
      "source": [
        "a[0,0].assign(10)"
      ],
      "metadata": {
        "colab": {
          "base_uri": "https://localhost:8080/"
        },
        "id": "3haH_upPmgHg",
        "outputId": "37b166e2-3ba1-4354-cf76-96215fb8e1ed"
      },
      "execution_count": null,
      "outputs": [
        {
          "output_type": "execute_result",
          "data": {
            "text/plain": [
              "<tf.Variable 'UnreadVariable' shape=(2, 3) dtype=float32, numpy=\n",
              "array([[10.,  1.,  1.],\n",
              "       [ 1.,  1.,  1.]], dtype=float32)>"
            ]
          },
          "metadata": {},
          "execution_count": 31
        }
      ]
    },
    {
      "cell_type": "code",
      "source": [
        "b=a.read_value()\n",
        "print(b)"
      ],
      "metadata": {
        "colab": {
          "base_uri": "https://localhost:8080/"
        },
        "id": "9yMsNLmcmyFk",
        "outputId": "e20f3dd1-d55b-4a0f-d562-471c698f0269"
      },
      "execution_count": null,
      "outputs": [
        {
          "output_type": "stream",
          "name": "stdout",
          "text": [
            "tf.Tensor(\n",
            "[[10.  1.  1.]\n",
            " [ 1.  1.  1.]], shape=(2, 3), dtype=float32)\n"
          ]
        }
      ]
    },
    {
      "cell_type": "code",
      "source": [
        "print(a)\n",
        "print(b)"
      ],
      "metadata": {
        "colab": {
          "base_uri": "https://localhost:8080/"
        },
        "id": "dKjSx2qBm5aW",
        "outputId": "c76e14b1-57a8-4dcf-e4cf-8f16fed7218e"
      },
      "execution_count": null,
      "outputs": [
        {
          "output_type": "stream",
          "name": "stdout",
          "text": [
            "<tf.Variable 'Variable:0' shape=(2, 3) dtype=float32, numpy=\n",
            "array([[10.,  1.,  1.],\n",
            "       [ 1.,  1.,  1.]], dtype=float32)>\n",
            "tf.Tensor(\n",
            "[[10.  1.  1.]\n",
            " [ 1.  1.  1.]], shape=(2, 3), dtype=float32)\n"
          ]
        }
      ]
    },
    {
      "cell_type": "code",
      "source": [
        "#Add,Multiply,div etc.,\n",
        "a=tf.constant(2)\n",
        "b=tf.constant(3)\n",
        "\n",
        "#add\n",
        "print(\"Addition with constants:\",a+b)\n",
        "print(\"Addition with numpy:\",a.numpy()+b.numpy())\n",
        "print(\"Addition with tf function:\",tf.add(a,b))"
      ],
      "metadata": {
        "colab": {
          "base_uri": "https://localhost:8080/"
        },
        "id": "oDjfjD2-nFFu",
        "outputId": "e6513170-769f-4360-a533-34e945069a53"
      },
      "execution_count": null,
      "outputs": [
        {
          "output_type": "stream",
          "name": "stdout",
          "text": [
            "Addition with constants: tf.Tensor(5, shape=(), dtype=int32)\n",
            "Addition with numpy: 5\n",
            "Addition with tf function: tf.Tensor(5, shape=(), dtype=int32)\n"
          ]
        }
      ]
    },
    {
      "cell_type": "code",
      "source": [
        "#Multiplication\n",
        "print(\"Multiplication with constants:\",a*b)\n",
        "print(\"Multiplication with numpy:\",a.numpy()*b.numpy())\n",
        "print(\"Multiplication with tf function:\",tf.multiply(a,b))"
      ],
      "metadata": {
        "colab": {
          "base_uri": "https://localhost:8080/"
        },
        "id": "_4nPeoWtolDP",
        "outputId": "53253c08-0146-4d4e-9f6c-1a1fd8757f7c"
      },
      "execution_count": null,
      "outputs": [
        {
          "output_type": "stream",
          "name": "stdout",
          "text": [
            "Multiplication with constants: tf.Tensor(6, shape=(), dtype=int32)\n",
            "Multiplication with numpy: 6\n",
            "Multiplication with tf function: tf.Tensor(6, shape=(), dtype=int32)\n"
          ]
        }
      ]
    },
    {
      "cell_type": "code",
      "source": [
        "#Matrix Multiplication\n",
        "matrix1=tf.constant([[3,3]])\n",
        "print(matrix1)"
      ],
      "metadata": {
        "colab": {
          "base_uri": "https://localhost:8080/"
        },
        "id": "tHgRO83doxFF",
        "outputId": "7e5d5b55-6bcd-481f-e903-2ebc032048e7"
      },
      "execution_count": null,
      "outputs": [
        {
          "output_type": "stream",
          "name": "stdout",
          "text": [
            "tf.Tensor([[3 3]], shape=(1, 2), dtype=int32)\n"
          ]
        }
      ]
    },
    {
      "cell_type": "code",
      "source": [
        "matrix2=tf.constant([[2],[2]])\n",
        "print(matrix2)"
      ],
      "metadata": {
        "colab": {
          "base_uri": "https://localhost:8080/"
        },
        "id": "LFAul9gOpKTE",
        "outputId": "21e687ad-ac61-4bad-8fa0-dfd8a8853b82"
      },
      "execution_count": null,
      "outputs": [
        {
          "output_type": "stream",
          "name": "stdout",
          "text": [
            "tf.Tensor(\n",
            "[[2]\n",
            " [2]], shape=(2, 1), dtype=int32)\n"
          ]
        }
      ]
    },
    {
      "cell_type": "code",
      "source": [
        "matrix_mul=tf.matmul(matrix1,matrix2)\n",
        "print(\"Multiplication with matrixes:\", matrix_mul)"
      ],
      "metadata": {
        "colab": {
          "base_uri": "https://localhost:8080/"
        },
        "id": "xSx0QUmPpTci",
        "outputId": "79b2c38c-9518-4492-a4c8-39e1985ec0e6"
      },
      "execution_count": null,
      "outputs": [
        {
          "output_type": "stream",
          "name": "stdout",
          "text": [
            "Multiplication with matrixes: tf.Tensor([[12]], shape=(1, 1), dtype=int32)\n"
          ]
        }
      ]
    },
    {
      "cell_type": "code",
      "source": [
        "matrix_mult=matrix1*matrix2\n",
        "print(matrix_mult)"
      ],
      "metadata": {
        "colab": {
          "base_uri": "https://localhost:8080/"
        },
        "id": "5fL3cXuhpomE",
        "outputId": "a69fa5ed-9734-4272-ac04-9d0c4701aa48"
      },
      "execution_count": null,
      "outputs": [
        {
          "output_type": "stream",
          "name": "stdout",
          "text": [
            "tf.Tensor(\n",
            "[[6 6]\n",
            " [6 6]], shape=(2, 2), dtype=int32)\n"
          ]
        }
      ]
    },
    {
      "cell_type": "code",
      "source": [
        "#Cast operations - float to int\n",
        "print(a)\n",
        "a1=tf.convert_to_tensor(3.0)\n",
        "print(a1)"
      ],
      "metadata": {
        "colab": {
          "base_uri": "https://localhost:8080/"
        },
        "id": "-9G3rpOftNVr",
        "outputId": "e0d3075e-4454-422f-abe1-6d19611d6ccb"
      },
      "execution_count": null,
      "outputs": [
        {
          "output_type": "stream",
          "name": "stdout",
          "text": [
            "tf.Tensor(2, shape=(), dtype=int32)\n",
            "tf.Tensor(3.0, shape=(), dtype=float32)\n"
          ]
        }
      ]
    },
    {
      "cell_type": "code",
      "source": [
        "b1=tf.cast(a1,tf.int32)\n",
        "print(a1,b1)"
      ],
      "metadata": {
        "colab": {
          "base_uri": "https://localhost:8080/"
        },
        "id": "fq0WSHlStshp",
        "outputId": "951b0c07-2caa-489c-c2e8-5c40c6a50803"
      },
      "execution_count": null,
      "outputs": [
        {
          "output_type": "stream",
          "name": "stdout",
          "text": [
            "tf.Tensor(3.0, shape=(), dtype=float32) tf.Tensor(3, shape=(), dtype=int32)\n"
          ]
        }
      ]
    },
    {
      "cell_type": "code",
      "source": [
        "#shape operations\n",
        "\n",
        "x=tf.ones([3,2])\n",
        "print(x)"
      ],
      "metadata": {
        "colab": {
          "base_uri": "https://localhost:8080/"
        },
        "id": "0SDxySbDuFAf",
        "outputId": "647d78a5-6e82-4974-a0d4-5240de7eba2f"
      },
      "execution_count": null,
      "outputs": [
        {
          "output_type": "stream",
          "name": "stdout",
          "text": [
            "tf.Tensor(\n",
            "[[1. 1.]\n",
            " [1. 1.]\n",
            " [1. 1.]], shape=(3, 2), dtype=float32)\n"
          ]
        }
      ]
    },
    {
      "cell_type": "code",
      "source": [
        "print(x.shape)"
      ],
      "metadata": {
        "colab": {
          "base_uri": "https://localhost:8080/"
        },
        "id": "yHKi_UBduPdS",
        "outputId": "62003515-282b-4114-aa47-eb8ca00d1ba2"
      },
      "execution_count": null,
      "outputs": [
        {
          "output_type": "stream",
          "name": "stdout",
          "text": [
            "(3, 2)\n"
          ]
        }
      ]
    },
    {
      "cell_type": "code",
      "source": [
        "print(x.shape[0],x.shape[1])"
      ],
      "metadata": {
        "colab": {
          "base_uri": "https://localhost:8080/"
        },
        "id": "n7fhCyxsvEXo",
        "outputId": "dd590406-acb4-4cfc-c03a-fa7132bbf68e"
      },
      "execution_count": null,
      "outputs": [
        {
          "output_type": "stream",
          "name": "stdout",
          "text": [
            "3 2\n"
          ]
        }
      ]
    },
    {
      "cell_type": "code",
      "source": [
        "shape_x=tf.shape(x)\n",
        "print(shape_x)\n",
        "print(shape_x[0],shape_x[1])"
      ],
      "metadata": {
        "colab": {
          "base_uri": "https://localhost:8080/"
        },
        "id": "QoZzK6vfvMr6",
        "outputId": "52954bb1-b65f-44f5-bc26-c8c3a47da8eb"
      },
      "execution_count": null,
      "outputs": [
        {
          "output_type": "stream",
          "name": "stdout",
          "text": [
            "tf.Tensor([3 2], shape=(2,), dtype=int32)\n",
            "tf.Tensor(3, shape=(), dtype=int32) tf.Tensor(2, shape=(), dtype=int32)\n"
          ]
        }
      ]
    },
    {
      "cell_type": "markdown",
      "source": [
        "**Session**"
      ],
      "metadata": {
        "id": "sTkldvC6wFaO"
      }
    },
    {
      "cell_type": "markdown",
      "source": [
        "To evaluate the nodes,called as the Tensorflow runtime"
      ],
      "metadata": {
        "id": "L5exHtCdwHqw"
      }
    },
    {
      "cell_type": "code",
      "source": [
        "x1=tf.constant(5.0)\n",
        "y1=tf.constant(3.0)\n",
        "z=x1*y1\n",
        "print(z)"
      ],
      "metadata": {
        "colab": {
          "base_uri": "https://localhost:8080/"
        },
        "id": "uoKqsPcmwPB7",
        "outputId": "2b3f3999-3bbf-48fc-963b-c71a5871ac59"
      },
      "execution_count": null,
      "outputs": [
        {
          "output_type": "stream",
          "name": "stdout",
          "text": [
            "tf.Tensor(15.0, shape=(), dtype=float32)\n"
          ]
        }
      ]
    },
    {
      "cell_type": "code",
      "source": [
        "# In TensorFlow 2.x and later, eager execution is enabled by default,\n",
        "# so you don't need to explicitly create and run a session to evaluate tensors.\n",
        "\n",
        "# The value of a tensor can be accessed directly using .numpy()\n",
        "\n",
        "print(z.numpy())\n",
        "\n",
        "# There is no need to close a session as it's not being used.\n",
        "# session.close()"
      ],
      "metadata": {
        "colab": {
          "base_uri": "https://localhost:8080/"
        },
        "id": "G8wkl1GfwaY6",
        "outputId": "ac3a2517-60f0-49ed-d3e5-a1bc75741d09"
      },
      "execution_count": null,
      "outputs": [
        {
          "output_type": "stream",
          "name": "stdout",
          "text": [
            "15.0\n"
          ]
        }
      ]
    },
    {
      "cell_type": "markdown",
      "source": [
        "Activation (notebook) (code). Start to know some activation functions in tensorflow."
      ],
      "metadata": {
        "id": "iv4UGVCLjs_7"
      }
    },
    {
      "cell_type": "markdown",
      "source": [
        "GradientTape (notebook) (code). Introduce a key technique for automatic differentiation"
      ],
      "metadata": {
        "id": "cln4Cov2jvT3"
      }
    },
    {
      "cell_type": "code",
      "source": [
        "print(tf.__version__)"
      ],
      "metadata": {
        "colab": {
          "base_uri": "https://localhost:8080/"
        },
        "id": "BqkknI5gjFbB",
        "outputId": "d59aeed0-5823-43db-f753-2bfcee5ae9c5"
      },
      "execution_count": null,
      "outputs": [
        {
          "output_type": "stream",
          "name": "stdout",
          "text": [
            "2.19.0\n"
          ]
        }
      ]
    },
    {
      "cell_type": "code",
      "source": [],
      "metadata": {
        "id": "PGIITFJZxtMa"
      },
      "execution_count": null,
      "outputs": []
    }
  ]
}